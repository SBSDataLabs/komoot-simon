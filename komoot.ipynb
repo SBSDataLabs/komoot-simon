{
 "cells": [
  {
   "cell_type": "code",
   "execution_count": null,
   "metadata": {},
   "outputs": [],
   "source": [
    "from rich import print # always my first import\n",
    "\n",
    "import random\n",
    "import datetime\n",
    "import uuid \n",
    "\n",
    "import pandas as pd \n",
    "import numpy as np \n",
    "import plotly.express as px\n",
    "\n",
    "from google.cloud import bigquery\n",
    "from dotenv import load_dotenv"
   ]
  },
  {
   "cell_type": "code",
   "execution_count": null,
   "metadata": {},
   "outputs": [],
   "source": [
    "# all possible dates\n",
    "initial_date = datetime.date(2022, 1, 1) \n",
    "dates = [initial_date + datetime.timedelta(i) for i in range(365)]\n",
    "\n",
    "# all possible countries with weights\n",
    "countries = ['GB', 'DE', 'BE', 'FR', 'NL', 'IT', 'ES']\n",
    "popns = [68, 84, 12, 65, 17, 60, 47]\n"
   ]
  },
  {
   "cell_type": "code",
   "execution_count": null,
   "metadata": {},
   "outputs": [],
   "source": [
    "# pull together a table of products \n",
    "# taken from here: https://support.komoot.com/hc/en-us/articles/360024587532-Komoot-products-and-their-cost\n",
    "products = pd.DataFrame(\n",
    "    {\n",
    "        'product_id': ['p1', 'p2', 'p3', 'p4']\n",
    "        , 'description': ['Single region', 'Region bundle', 'World pack', 'Premium']\n",
    "        , 'price': [3.99, 8.99, 29.99, 59.99]\n",
    "    }\n",
    ")\n",
    "product_weights = [50,40,10,5]"
   ]
  },
  {
   "cell_type": "code",
   "execution_count": null,
   "metadata": {},
   "outputs": [],
   "source": [
    "# pull together a table of customers \n",
    "custs = [\n",
    "    {\n",
    "        'customer_id': uuid.uuid4().__str__() # bigquery doesnt like UUID, wants string\n",
    "        , 'signup_date': random.choice(dates)\n",
    "        , 'country': random.choices(countries, popns)[0]\n",
    "    }\n",
    "    for i in range(20000)\n",
    "]\n",
    "custs = pd.DataFrame(custs)"
   ]
  },
  {
   "cell_type": "code",
   "execution_count": null,
   "metadata": {},
   "outputs": [],
   "source": [
    "# visual check that this distribution is ok.. \n",
    "# draw a chart and check youre happy with what that looks like as a distribution\n",
    "days_after_signup = np.random.default_rng().normal(loc=0, scale = 20, size = 1000)\n",
    "days_after_signup = [abs(int(i)) for i in days_after_signup]\n",
    "px.ecdf(days_after_signup)"
   ]
  },
  {
   "cell_type": "code",
   "execution_count": null,
   "metadata": {},
   "outputs": [],
   "source": [
    "# create a purchases table \n",
    "purchases = [\n",
    "    {\n",
    "        'purchase_id': uuid.uuid4().__str__() # bigquery doesnt like UUID, wants string\n",
    "        , 'customer_id': random.choice(custs['customer_id'])\n",
    "        , '_days_after_signup': int(abs(np.random.default_rng().normal(loc=0, scale = 20, size = 1)[0]))\n",
    "        , 'product_id': random.choices(products['product_id'], product_weights)[0]\n",
    "        \n",
    "    }\n",
    "    for i in range(10000)\n",
    "]\n",
    "purchases = pd.DataFrame(purchases)"
   ]
  },
  {
   "cell_type": "code",
   "execution_count": null,
   "metadata": {},
   "outputs": [],
   "source": [
    "# need to backwards engineer the date here. \n",
    "purchases = pd.merge(left = purchases, right = custs, on = 'customer_id' )\n",
    "def create_eventdate(row) : \n",
    "    return row['signup_date'] + datetime.timedelta(row['_days_after_signup'])\n",
    "purchases['eventdate'] = purchases.apply(create_eventdate, axis = 1) \n",
    "purchases.drop(['_days_after_signup', 'signup_date', 'country'], axis = 1, inplace = True)"
   ]
  },
  {
   "cell_type": "code",
   "execution_count": null,
   "metadata": {},
   "outputs": [],
   "source": [
    "# following walkthrough here for setting up authentication on g-bq: \n",
    "# https://cloud.google.com/bigquery/docs/quickstarts/quickstart-client-libraries\n",
    "load_dotenv()\n",
    "client = bigquery.Client()"
   ]
  },
  {
   "cell_type": "code",
   "execution_count": null,
   "metadata": {},
   "outputs": [],
   "source": [
    "# following walkthrough here: https://cloud.google.com/bigquery/docs/samples/bigquery-load-table-dataframe\n",
    "def send_to_bq(df: pd.DataFrame, name: str) -> None : \n",
    "    # make sure you have created the \"dataset\"/schema. i did this via UI, can do programatically tho\n",
    "    table_id = f'komoot-simon.fakedata.{name}'\n",
    "    job = client.load_table_from_dataframe(df, table_id, )  # Make an API request.\n",
    "    return \n",
    "send_to_bq(custs, 'customers') \n",
    "send_to_bq(products, 'products') \n",
    "send_to_bq(purchases, 'purchases') "
   ]
  },
  {
   "cell_type": "code",
   "execution_count": null,
   "metadata": {},
   "outputs": [],
   "source": [
    "sql = \"\"\" \n",
    "create or replace view `komoot-simon.reporting.purchases_after_signup` as ( \n",
    "  \n",
    "  with\n",
    "\n",
    "  purchases as  \n",
    "    (\n",
    "      select \n",
    "        *\n",
    "        , row_number() over (partition by customer_id order by eventdate) as event_number \n",
    "      from `komoot-simon.fakedata.purchases`\n",
    "    )\n",
    "\n",
    "    select \n",
    "        a.* \n",
    "        , b.* except (customer_id) \n",
    "        , c.* except (product_id) \n",
    "        , date_diff(b.eventdate, a.signup_date, DAY) as days_since_signup\n",
    "\n",
    "    from `komoot-simon.fakedata.customers` as a \n",
    "\n",
    "    left join purchases as b \n",
    "    on a.customer_id = b.customer_id\n",
    "\n",
    "    left join `komoot-simon.fakedata.products` as c \n",
    "    on b.product_id = c.product_id \n",
    "  )\n",
    ";\n",
    "\"\"\"\n",
    "job = client.query(sql)\n",
    "job.result() "
   ]
  }
 ],
 "metadata": {
  "kernelspec": {
   "display_name": "Python 3.10.7 64-bit",
   "language": "python",
   "name": "python3"
  },
  "language_info": {
   "codemirror_mode": {
    "name": "ipython",
    "version": 3
   },
   "file_extension": ".py",
   "mimetype": "text/x-python",
   "name": "python",
   "nbconvert_exporter": "python",
   "pygments_lexer": "ipython3",
   "version": "3.10.7"
  },
  "orig_nbformat": 4,
  "vscode": {
   "interpreter": {
    "hash": "aee8b7b246df8f9039afb4144a1f6fd8d2ca17a180786b69acc140d282b71a49"
   }
  }
 },
 "nbformat": 4,
 "nbformat_minor": 2
}
